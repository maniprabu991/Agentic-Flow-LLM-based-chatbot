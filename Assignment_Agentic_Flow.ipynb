{
  "nbformat": 4,
  "nbformat_minor": 0,
  "metadata": {
    "colab": {
      "provenance": []
    },
    "kernelspec": {
      "name": "python3",
      "display_name": "Python 3"
    },
    "language_info": {
      "name": "python"
    }
  },
  "cells": [
    {
      "cell_type": "markdown",
      "source": [
        "# **Step 1: Setup Environment**\n",
        "Install necessary libraries including transformers, nltk for text preprocessing, and flask."
      ],
      "metadata": {
        "id": "lfTklkOMe9nx"
      }
    },
    {
      "cell_type": "code",
      "execution_count": null,
      "metadata": {
        "colab": {
          "base_uri": "https://localhost:8080/"
        },
        "id": "43zvn0_Me6vH",
        "outputId": "88104c37-5131-4cfe-c381-2d549e5d87a7"
      },
      "outputs": [
        {
          "output_type": "stream",
          "name": "stdout",
          "text": [
            "Requirement already satisfied: transformers in /usr/local/lib/python3.10/dist-packages (4.41.2)\n",
            "Requirement already satisfied: filelock in /usr/local/lib/python3.10/dist-packages (from transformers) (3.15.4)\n",
            "Requirement already satisfied: huggingface-hub<1.0,>=0.23.0 in /usr/local/lib/python3.10/dist-packages (from transformers) (0.23.4)\n",
            "Requirement already satisfied: numpy>=1.17 in /usr/local/lib/python3.10/dist-packages (from transformers) (1.25.2)\n",
            "Requirement already satisfied: packaging>=20.0 in /usr/local/lib/python3.10/dist-packages (from transformers) (23.2)\n",
            "Requirement already satisfied: pyyaml>=5.1 in /usr/local/lib/python3.10/dist-packages (from transformers) (6.0.1)\n",
            "Requirement already satisfied: regex!=2019.12.17 in /usr/local/lib/python3.10/dist-packages (from transformers) (2023.12.25)\n",
            "Requirement already satisfied: requests in /usr/local/lib/python3.10/dist-packages (from transformers) (2.31.0)\n",
            "Requirement already satisfied: tokenizers<0.20,>=0.19 in /usr/local/lib/python3.10/dist-packages (from transformers) (0.19.1)\n",
            "Requirement already satisfied: safetensors>=0.4.1 in /usr/local/lib/python3.10/dist-packages (from transformers) (0.4.3)\n",
            "Requirement already satisfied: tqdm>=4.27 in /usr/local/lib/python3.10/dist-packages (from transformers) (4.66.4)\n",
            "Requirement already satisfied: fsspec>=2023.5.0 in /usr/local/lib/python3.10/dist-packages (from huggingface-hub<1.0,>=0.23.0->transformers) (2023.6.0)\n",
            "Requirement already satisfied: typing-extensions>=3.7.4.3 in /usr/local/lib/python3.10/dist-packages (from huggingface-hub<1.0,>=0.23.0->transformers) (4.12.2)\n",
            "Requirement already satisfied: charset-normalizer<4,>=2 in /usr/local/lib/python3.10/dist-packages (from requests->transformers) (3.3.2)\n",
            "Requirement already satisfied: idna<4,>=2.5 in /usr/local/lib/python3.10/dist-packages (from requests->transformers) (3.7)\n",
            "Requirement already satisfied: urllib3<3,>=1.21.1 in /usr/local/lib/python3.10/dist-packages (from requests->transformers) (2.0.7)\n",
            "Requirement already satisfied: certifi>=2017.4.17 in /usr/local/lib/python3.10/dist-packages (from requests->transformers) (2024.6.2)\n",
            "Requirement already satisfied: nltk in /usr/local/lib/python3.10/dist-packages (3.8.1)\n",
            "Requirement already satisfied: click in /usr/local/lib/python3.10/dist-packages (from nltk) (8.1.7)\n",
            "Requirement already satisfied: joblib in /usr/local/lib/python3.10/dist-packages (from nltk) (1.4.2)\n",
            "Requirement already satisfied: regex>=2021.8.3 in /usr/local/lib/python3.10/dist-packages (from nltk) (2023.12.25)\n",
            "Requirement already satisfied: tqdm in /usr/local/lib/python3.10/dist-packages (from nltk) (4.66.4)\n",
            "Requirement already satisfied: flask in /usr/local/lib/python3.10/dist-packages (2.2.5)\n",
            "Requirement already satisfied: Werkzeug>=2.2.2 in /usr/local/lib/python3.10/dist-packages (from flask) (3.0.3)\n",
            "Requirement already satisfied: Jinja2>=3.0 in /usr/local/lib/python3.10/dist-packages (from flask) (3.1.4)\n",
            "Requirement already satisfied: itsdangerous>=2.0 in /usr/local/lib/python3.10/dist-packages (from flask) (2.2.0)\n",
            "Requirement already satisfied: click>=8.0 in /usr/local/lib/python3.10/dist-packages (from flask) (8.1.7)\n",
            "Requirement already satisfied: MarkupSafe>=2.0 in /usr/local/lib/python3.10/dist-packages (from Jinja2>=3.0->flask) (2.1.5)\n"
          ]
        }
      ],
      "source": [
        "!pip install transformers\n",
        "!pip install nltk\n",
        "!pip install flask\n"
      ]
    },
    {
      "cell_type": "markdown",
      "source": [
        "# Step 2: Preprocessing & Intent Recognition\n",
        "Define functions for preprocessing user input and recognizing intents using keywords."
      ],
      "metadata": {
        "id": "scZER07WfTki"
      }
    },
    {
      "cell_type": "code",
      "source": [
        "import nltk\n",
        "from nltk.tokenize import word_tokenize\n",
        "from nltk.corpus import stopwords\n",
        "import string\n",
        "\n",
        "# Download necessary NLTK data files\n",
        "nltk.download('punkt')\n",
        "nltk.download('stopwords')\n",
        "\n",
        "def preprocess(text):\n",
        "    text = text.lower()\n",
        "    text = text.translate(str.maketrans('', '', string.punctuation))\n",
        "    tokens = word_tokenize(text)\n",
        "    tokens = [word for word in tokens if word not in stopwords.words('english')]\n",
        "    return tokens\n",
        "\n",
        "def recognize_intent(tokens):\n",
        "    intents = {\n",
        "        'product_info': ['product', 'details', 'specifications', 'features'],\n",
        "        'order_status': ['order', 'status', 'track'],\n",
        "        'return_policy': ['return', 'exchange', 'policy'],\n",
        "        'discount_inquiry': ['discount', 'sale', 'promotion'],\n",
        "    }\n",
        "\n",
        "    for intent, keywords in intents.items():\n",
        "        if any(token in keywords for token in tokens):\n",
        "            return intent\n",
        "    return 'unknown'\n",
        "\n",
        "# Example usage\n",
        "user_input = \"Can you give me details about the latest iPhone?\"\n",
        "tokens = preprocess(user_input)\n",
        "intent = recognize_intent(tokens)\n",
        "print(f\"Tokens: {tokens}\")\n",
        "print(f\"Recognized Intent: {intent}\")\n"
      ],
      "metadata": {
        "colab": {
          "base_uri": "https://localhost:8080/"
        },
        "id": "uHTmbGLZu8n3",
        "outputId": "c65ac98f-8988-4e04-a3db-c18c77d74759"
      },
      "execution_count": null,
      "outputs": [
        {
          "output_type": "stream",
          "name": "stdout",
          "text": [
            "Tokens: ['give', 'details', 'latest', 'iphone']\n",
            "Recognized Intent: product_info\n"
          ]
        },
        {
          "output_type": "stream",
          "name": "stderr",
          "text": [
            "[nltk_data] Downloading package punkt to /root/nltk_data...\n",
            "[nltk_data]   Package punkt is already up-to-date!\n",
            "[nltk_data] Downloading package stopwords to /root/nltk_data...\n",
            "[nltk_data]   Package stopwords is already up-to-date!\n"
          ]
        }
      ]
    },
    {
      "cell_type": "markdown",
      "source": [
        "# Step 3: Dialog Management\n",
        "Define a dialog manager to handle different intents."
      ],
      "metadata": {
        "id": "Xz_hpl10foOb"
      }
    },
    {
      "cell_type": "code",
      "source": [
        "class DialogManager:\n",
        "    def __init__(self):\n",
        "        pass\n",
        "\n",
        "    def handle_intent(self, intent, tokens):\n",
        "        if intent == 'product_info':\n",
        "            return self.handle_product_info(tokens)\n",
        "        elif intent == 'order_status':\n",
        "            return self.handle_order_status(tokens)\n",
        "        elif intent == 'return_policy':\n",
        "            return self.handle_return_policy(tokens)\n",
        "        elif intent == 'discount_inquiry':\n",
        "            return self.handle_discount_inquiry(tokens)\n",
        "        else:\n",
        "            return \"Sorry, I didn't understand that. Can you please rephrase?\"\n",
        "\n",
        "    def handle_product_info(self, tokens):\n",
        "        # For demo, we'll return a dummy response\n",
        "        return \"The latest iPhone has a 6.1-inch display, A15 Bionic chip, and dual-camera system.\"\n",
        "\n",
        "    def handle_order_status(self, tokens):\n",
        "        # For demo, we'll return a dummy response\n",
        "        return \"Your order is currently being processed and will be shipped soon.\"\n",
        "\n",
        "    def handle_return_policy(self, tokens):\n",
        "        # For demo, we'll return a dummy response\n",
        "        return \"You can return any product within 30 days of purchase.\"\n",
        "\n",
        "    def handle_discount_inquiry(self, tokens):\n",
        "        # For demo, we'll return a dummy response\n",
        "        return \"Currently, we have a 10% discount on all electronics.\"\n",
        "\n",
        "# Example usage\n",
        "dialog_manager = DialogManager()\n",
        "response = dialog_manager.handle_intent(intent, tokens)\n",
        "print(response)\n"
      ],
      "metadata": {
        "colab": {
          "base_uri": "https://localhost:8080/"
        },
        "id": "jw5oQRj7rvoj",
        "outputId": "93f4fd91-4803-44bb-d960-8b670437f19b"
      },
      "execution_count": null,
      "outputs": [
        {
          "output_type": "stream",
          "name": "stdout",
          "text": [
            "The latest iPhone has a 6.1-inch display, A15 Bionic chip, and dual-camera system.\n"
          ]
        }
      ]
    },
    {
      "cell_type": "markdown",
      "source": [
        "# Step 4: LLM Interaction\n",
        "Use a pre-trained model from Hugging Face's transformers for generating responses."
      ],
      "metadata": {
        "id": "LDA-kV9Hf19c"
      }
    },
    {
      "cell_type": "code",
      "source": [
        "from transformers import pipeline\n",
        "\n",
        "# Load a pre-trained model suitable for your chatbot's task\n",
        "model_name = \"gpt2\"  # Example model - Choose based on your needs and Colab resource limitations\n",
        "\n",
        "# Consider pre-training the model (optional):\n",
        "# If you have relevant customer service conversation data (within Colab's resource constraints),\n",
        "# pre-train the model using `transformers.Trainer` or other techniques for improved performance.\n",
        "\n",
        "def generate_response(prompt):\n",
        "  \"\"\"\n",
        "  Generates a response using the pre-trained LLM.\n",
        "\n",
        "  Args:\n",
        "      prompt (str): The prompt to guide the LLM's response generation.\n",
        "\n",
        "  Returns:\n",
        "      str: The generated response from the LLM.\n",
        "  \"\"\"\n",
        "\n",
        "  try:\n",
        "    # Attempt to generate a response using the pre-trained model\n",
        "    generator = pipeline('text-generation', model=model_name)\n",
        "    response = generator(prompt, max_length=50, num_return_sequences=1)\n",
        "    return response[0]['generated_text']\n",
        "\n",
        "  except Exception as e:\n",
        "    # Handle potential exceptions gracefully (e.g., model loading errors)\n",
        "    print(f\"Error generating response: {e}\")\n",
        "    return \"I'm currently unavailable. Please try again later.\"\n",
        "\n",
        "# Example usage\n",
        "prompt = \"The latest iPhone has\"\n",
        "response = generate_response(prompt)\n",
        "print(response)\n"
      ],
      "metadata": {
        "colab": {
          "base_uri": "https://localhost:8080/"
        },
        "id": "JGgGVWgjglNp",
        "outputId": "54774839-500d-4307-f70a-bb47fcbe68b6"
      },
      "execution_count": null,
      "outputs": [
        {
          "output_type": "stream",
          "name": "stderr",
          "text": [
            "Truncation was not explicitly activated but `max_length` is provided a specific value, please use `truncation=True` to explicitly truncate examples to max length. Defaulting to 'longest_first' truncation strategy. If you encode pairs of sequences (GLUE-style) with the tokenizer you can select this strategy more precisely by providing a specific strategy to `truncation`.\n",
            "Setting `pad_token_id` to `eos_token_id`:50256 for open-end generation.\n"
          ]
        },
        {
          "output_type": "stream",
          "name": "stdout",
          "text": [
            "The latest iPhone has a 16:9 aspect ratio which allows much finer details to be observed. I wouldn't want to see this with my own eye but they are very noticeable and crisp.\n",
            "\n",
            "Apple also included the Touch ID ring allowing users to\n"
          ]
        }
      ]
    },
    {
      "cell_type": "code",
      "source": [
        "!pip install requests groqcloud"
      ],
      "metadata": {
        "colab": {
          "base_uri": "https://localhost:8080/"
        },
        "id": "rBNuKDHMxRqV",
        "outputId": "c6e3f916-8865-4dac-c5ab-5709111e586f"
      },
      "execution_count": null,
      "outputs": [
        {
          "output_type": "stream",
          "name": "stdout",
          "text": [
            "Requirement already satisfied: requests in /usr/local/lib/python3.10/dist-packages (2.31.0)\n",
            "Requirement already satisfied: groqcloud in /usr/local/lib/python3.10/dist-packages (0.4.0)\n",
            "Requirement already satisfied: charset-normalizer<4,>=2 in /usr/local/lib/python3.10/dist-packages (from requests) (3.3.2)\n",
            "Requirement already satisfied: idna<4,>=2.5 in /usr/local/lib/python3.10/dist-packages (from requests) (3.7)\n",
            "Requirement already satisfied: urllib3<3,>=1.21.1 in /usr/local/lib/python3.10/dist-packages (from requests) (2.0.7)\n",
            "Requirement already satisfied: certifi>=2017.4.17 in /usr/local/lib/python3.10/dist-packages (from requests) (2024.6.2)\n",
            "Requirement already satisfied: anyio<5,>=3.5.0 in /usr/local/lib/python3.10/dist-packages (from groqcloud) (3.7.1)\n",
            "Requirement already satisfied: distro<2,>=1.7.0 in /usr/lib/python3/dist-packages (from groqcloud) (1.7.0)\n",
            "Requirement already satisfied: httpx<1,>=0.23.0 in /usr/local/lib/python3.10/dist-packages (from groqcloud) (0.27.0)\n",
            "Requirement already satisfied: pydantic<3,>=1.9.0 in /usr/local/lib/python3.10/dist-packages (from groqcloud) (2.8.0)\n",
            "Requirement already satisfied: sniffio in /usr/local/lib/python3.10/dist-packages (from groqcloud) (1.3.1)\n",
            "Requirement already satisfied: typing-extensions<5,>=4.7 in /usr/local/lib/python3.10/dist-packages (from groqcloud) (4.12.2)\n",
            "Requirement already satisfied: exceptiongroup in /usr/local/lib/python3.10/dist-packages (from anyio<5,>=3.5.0->groqcloud) (1.2.1)\n",
            "Requirement already satisfied: httpcore==1.* in /usr/local/lib/python3.10/dist-packages (from httpx<1,>=0.23.0->groqcloud) (1.0.5)\n",
            "Requirement already satisfied: h11<0.15,>=0.13 in /usr/local/lib/python3.10/dist-packages (from httpcore==1.*->httpx<1,>=0.23.0->groqcloud) (0.14.0)\n",
            "Requirement already satisfied: annotated-types>=0.4.0 in /usr/local/lib/python3.10/dist-packages (from pydantic<3,>=1.9.0->groqcloud) (0.7.0)\n",
            "Requirement already satisfied: pydantic-core==2.20.0 in /usr/local/lib/python3.10/dist-packages (from pydantic<3,>=1.9.0->groqcloud) (2.20.0)\n",
            "Requirement already satisfied: requests in /usr/local/lib/python3.10/dist-packages (2.31.0)\n",
            "\u001b[31mERROR: Could not find a version that satisfies the requirement serper (from versions: none)\u001b[0m\u001b[31m\n",
            "\u001b[0m\u001b[31mERROR: No matching distribution found for serper\u001b[0m\u001b[31m\n",
            "\u001b[0m"
          ]
        }
      ]
    },
    {
      "cell_type": "code",
      "source": [
        "pip install requests\n"
      ],
      "metadata": {
        "colab": {
          "base_uri": "https://localhost:8080/"
        },
        "id": "r4RrM3bmxp-Z",
        "outputId": "64dbf1dd-ec3c-4c27-864d-db405bf81d6d"
      },
      "execution_count": null,
      "outputs": [
        {
          "output_type": "stream",
          "name": "stdout",
          "text": [
            "Requirement already satisfied: requests in /usr/local/lib/python3.10/dist-packages (2.31.0)\n",
            "Requirement already satisfied: charset-normalizer<4,>=2 in /usr/local/lib/python3.10/dist-packages (from requests) (3.3.2)\n",
            "Requirement already satisfied: idna<4,>=2.5 in /usr/local/lib/python3.10/dist-packages (from requests) (3.7)\n",
            "Requirement already satisfied: urllib3<3,>=1.21.1 in /usr/local/lib/python3.10/dist-packages (from requests) (2.0.7)\n",
            "Requirement already satisfied: certifi>=2017.4.17 in /usr/local/lib/python3.10/dist-packages (from requests) (2024.6.2)\n"
          ]
        }
      ]
    },
    {
      "cell_type": "code",
      "source": [
        "import requests\n",
        "from nltk.tokenize import word_tokenize\n",
        "from nltk.corpus import stopwords\n",
        "import string\n",
        "import os\n",
        "from google.colab import userdata\n",
        "\n",
        "# Initialize Serper API\n",
        "serper_api_key = userdata.get('SERPER_APIKEY')\n",
        "print(f\"SERPER_API_KEY: {serper_api_key}\")  # Print the Serper API key for verification\n",
        "os.environ[\"SERPER_API_KEY\"] = serper_api_key\n",
        "# Replace with your actual API keys\n",
        "serper_api_key = \"SERPER_APIKEY\"\n",
        "groqcloud_api_key = \"GROQ_APIKEY\""
      ],
      "metadata": {
        "id": "BsM2o9QEwhZN"
      },
      "execution_count": null,
      "outputs": []
    },
    {
      "cell_type": "code",
      "source": [
        "def preprocess(text):\n",
        "    \"\"\"Preprocesses text for intent recognition.\"\"\"\n",
        "    text = text.lower()  # Lowercase for consistent processing\n",
        "    text = text.translate(str.maketrans('', '', string.punctuation))  # Remove punctuation\n",
        "    tokens = word_tokenize(text)\n",
        "    tokens = [word for word in tokens if word not in stopwords.words('english')]  # Remove stopwords\n",
        "    return tokens\n",
        "\n",
        "def recognize_intent(tokens):\n",
        "    \"\"\"Recognizes the user's intent from their input.\"\"\"\n",
        "    intents = {\n",
        "        'product_info': ['product', 'details', 'specifications', 'features'],\n",
        "        'order_status': ['order', 'status', 'track'],\n",
        "        'return_policy': ['return', 'exchange', 'policy'],\n",
        "        'discount_inquiry': ['discount', 'sale', 'promotion'],\n",
        "    }\n",
        "\n",
        "    for intent, keywords in intents.items():\n",
        "        if any(token in keywords for token in tokens):\n",
        "            return intent\n",
        "    return 'unknown'\n",
        "\n",
        "def get_product_info_from_serper(product_name):\n",
        "    \"\"\"Retrieves product information from Serper API search results.\"\"\"\n",
        "    params = {\n",
        "        \"engine\": \"google_search\",\n",
        "        \"q\": product_name,\n",
        "        \"api_key\": serper_api_key\n",
        "    }\n",
        "    response = requests.get(\"https://serpi.com/search\", params=params)\n",
        "\n",
        "    if response.status_code == 200:\n",
        "        data = response.json()\n",
        "        # Process search results to extract relevant product information (implementation needed)\n",
        "        product_info = \"...\"  # Replace with logic to extract product details from search results\n",
        "        return product_info\n",
        "    else:\n",
        "        return \"Error occurred while retrieving product information from Serper.\"\n",
        "\n",
        "def get_order_status_from_groqcloud(order_id):\n",
        "    \"\"\"Retrieves order status from GroqCloud API (replace with actual implementation).\"\"\"\n",
        "    # Replace with GroqCloud API call logic based on their documentation\n",
        "    # ...\n",
        "    pass\n",
        "\n",
        "class DialogManagerWithAPIs(DialogManager):\n",
        "    def __init__(self):\n",
        "        super().__init__(serper_api_key=serper_api_key, groqcloud_api_key=groqcloud_api_key)  # Pass API keys\n",
        "\n",
        "    def handle_intent(self, intent, tokens):\n",
        "        if intent == 'product_info':\n",
        "            return self.handle_product_info(tokens)\n",
        "        elif intent == 'order_status':\n",
        "            return self.handle_order_status(tokens)\n",
        "        elif intent == 'return_policy':\n",
        "            return self.handle_return_policy(tokens)  # Implement handle_return_policy as needed\n",
        "        elif intent == 'discount_inquiry':\n",
        "            return self.handle_discount_inquiry(tokens)  # Implement handle_discount_inquiry as needed\n",
        "        else:\n",
        "            return \"Sorry, I didn't understand that. Can you please rephrase?\"\n",
        "\n",
        "    def handle_product_info(self, tokens):\n",
        "        product_name = ' '.join([token for token in tokens if token not in ['product', 'details']])\n",
        "        product_info = get_product_info_from_serper(product_name)\n",
        "        return product_info\n",
        "\n",
        "    def handle_order_status(self, tokens):\n",
        "        # Assuming you have an order ID retrieval logic\n",
        "        order_id = \"12345\"  # Replace with logic to get order ID from user input\n",
        "        order_status = get_order_status_from_groqcloud(order_id)\n",
        "        return f\"Your order status: {order_status}\"\n",
        "def get_user_input():\n",
        "    \"\"\"Prompts the user for input and returns their response.\"\"\"\n",
        "    user_input = input(\"What would you like to know? \")\n",
        "    return user_input\n",
        "\n",
        "# Example usage (assuming you have a function to get user input)\n",
        "user_input = get_user_input()\n",
        " # Replace with your function to get user input\n",
        "tokens = preprocess(user_input)\n",
        "intent = recognize_intent(tokens)\n",
        "dialog_manager = DialogManagerWithAPIs()\n",
        "response = dialog_manager.handle_intent(intent, tokens)\n",
        "print(response)"
      ],
      "metadata": {
        "colab": {
          "base_uri": "https://localhost:8080/",
          "height": 349
        },
        "id": "bH2ShNvVzIqS",
        "outputId": "beb4436b-6c94-43c3-8ffd-8646317cf63a"
      },
      "execution_count": null,
      "outputs": [
        {
          "name": "stdout",
          "output_type": "stream",
          "text": [
            "What would you like to know? product\n"
          ]
        },
        {
          "output_type": "error",
          "ename": "TypeError",
          "evalue": "DialogManager.__init__() got an unexpected keyword argument 'serper_api_key'",
          "traceback": [
            "\u001b[0;31m---------------------------------------------------------------------------\u001b[0m",
            "\u001b[0;31mTypeError\u001b[0m                                 Traceback (most recent call last)",
            "\u001b[0;32m<ipython-input-18-6a363df68ea2>\u001b[0m in \u001b[0;36m<cell line: 82>\u001b[0;34m()\u001b[0m\n\u001b[1;32m     80\u001b[0m \u001b[0mtokens\u001b[0m \u001b[0;34m=\u001b[0m \u001b[0mpreprocess\u001b[0m\u001b[0;34m(\u001b[0m\u001b[0muser_input\u001b[0m\u001b[0;34m)\u001b[0m\u001b[0;34m\u001b[0m\u001b[0;34m\u001b[0m\u001b[0m\n\u001b[1;32m     81\u001b[0m \u001b[0mintent\u001b[0m \u001b[0;34m=\u001b[0m \u001b[0mrecognize_intent\u001b[0m\u001b[0;34m(\u001b[0m\u001b[0mtokens\u001b[0m\u001b[0;34m)\u001b[0m\u001b[0;34m\u001b[0m\u001b[0;34m\u001b[0m\u001b[0m\n\u001b[0;32m---> 82\u001b[0;31m \u001b[0mdialog_manager\u001b[0m \u001b[0;34m=\u001b[0m \u001b[0mDialogManagerWithAPIs\u001b[0m\u001b[0;34m(\u001b[0m\u001b[0;34m)\u001b[0m\u001b[0;34m\u001b[0m\u001b[0;34m\u001b[0m\u001b[0m\n\u001b[0m\u001b[1;32m     83\u001b[0m \u001b[0mresponse\u001b[0m \u001b[0;34m=\u001b[0m \u001b[0mdialog_manager\u001b[0m\u001b[0;34m.\u001b[0m\u001b[0mhandle_intent\u001b[0m\u001b[0;34m(\u001b[0m\u001b[0mintent\u001b[0m\u001b[0;34m,\u001b[0m \u001b[0mtokens\u001b[0m\u001b[0;34m)\u001b[0m\u001b[0;34m\u001b[0m\u001b[0;34m\u001b[0m\u001b[0m\n\u001b[1;32m     84\u001b[0m \u001b[0mprint\u001b[0m\u001b[0;34m(\u001b[0m\u001b[0mresponse\u001b[0m\u001b[0;34m)\u001b[0m\u001b[0;34m\u001b[0m\u001b[0;34m\u001b[0m\u001b[0m\n",
            "\u001b[0;32m<ipython-input-18-6a363df68ea2>\u001b[0m in \u001b[0;36m__init__\u001b[0;34m(self)\u001b[0m\n\u001b[1;32m     46\u001b[0m \u001b[0;32mclass\u001b[0m \u001b[0mDialogManagerWithAPIs\u001b[0m\u001b[0;34m(\u001b[0m\u001b[0mDialogManager\u001b[0m\u001b[0;34m)\u001b[0m\u001b[0;34m:\u001b[0m\u001b[0;34m\u001b[0m\u001b[0;34m\u001b[0m\u001b[0m\n\u001b[1;32m     47\u001b[0m     \u001b[0;32mdef\u001b[0m \u001b[0m__init__\u001b[0m\u001b[0;34m(\u001b[0m\u001b[0mself\u001b[0m\u001b[0;34m)\u001b[0m\u001b[0;34m:\u001b[0m\u001b[0;34m\u001b[0m\u001b[0;34m\u001b[0m\u001b[0m\n\u001b[0;32m---> 48\u001b[0;31m         \u001b[0msuper\u001b[0m\u001b[0;34m(\u001b[0m\u001b[0;34m)\u001b[0m\u001b[0;34m.\u001b[0m\u001b[0m__init__\u001b[0m\u001b[0;34m(\u001b[0m\u001b[0mserper_api_key\u001b[0m\u001b[0;34m=\u001b[0m\u001b[0mserper_api_key\u001b[0m\u001b[0;34m,\u001b[0m \u001b[0mgroqcloud_api_key\u001b[0m\u001b[0;34m=\u001b[0m\u001b[0mgroqcloud_api_key\u001b[0m\u001b[0;34m)\u001b[0m  \u001b[0;31m# Pass API keys\u001b[0m\u001b[0;34m\u001b[0m\u001b[0;34m\u001b[0m\u001b[0m\n\u001b[0m\u001b[1;32m     49\u001b[0m \u001b[0;34m\u001b[0m\u001b[0m\n\u001b[1;32m     50\u001b[0m     \u001b[0;32mdef\u001b[0m \u001b[0mhandle_intent\u001b[0m\u001b[0;34m(\u001b[0m\u001b[0mself\u001b[0m\u001b[0;34m,\u001b[0m \u001b[0mintent\u001b[0m\u001b[0;34m,\u001b[0m \u001b[0mtokens\u001b[0m\u001b[0;34m)\u001b[0m\u001b[0;34m:\u001b[0m\u001b[0;34m\u001b[0m\u001b[0;34m\u001b[0m\u001b[0m\n",
            "\u001b[0;31mTypeError\u001b[0m: DialogManager.__init__() got an unexpected keyword argument 'serper_api_key'"
          ]
        }
      ]
    }
  ]
}